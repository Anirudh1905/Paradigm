{
 "cells": [
  {
   "cell_type": "markdown",
   "metadata": {},
   "source": [
    "# Q2."
   ]
  },
  {
   "cell_type": "code",
   "execution_count": 2,
   "metadata": {},
   "outputs": [],
   "source": [
    "from pyDatalog import pyDatalog\n",
    "\n",
    "pyDatalog.create_terms('big,small,brown,black,gray,dark,X,Y')\n",
    "\n",
    "+big('bear')\n",
    "+big('elephant')\n",
    "+small('cat')\n",
    "+brown('bear')\n",
    "+black('cat')\n",
    "+gray('elephant')"
   ]
  },
  {
   "cell_type": "code",
   "execution_count": 9,
   "metadata": {},
   "outputs": [
    {
     "data": {
      "text/plain": [
       "dark(X) <= brown(X)"
      ]
     },
     "execution_count": 9,
     "metadata": {},
     "output_type": "execute_result"
    }
   ],
   "source": [
    "dark(X)<=black(X)\n",
    "dark(X)<=brown(X)"
   ]
  },
  {
   "cell_type": "code",
   "execution_count": 10,
   "metadata": {},
   "outputs": [
    {
     "data": {
      "text/plain": [
       "[('bear',)]"
      ]
     },
     "execution_count": 10,
     "metadata": {},
     "output_type": "execute_result"
    }
   ],
   "source": [
    "(dark(Y) & big(Y))"
   ]
  },
  {
   "cell_type": "markdown",
   "metadata": {},
   "source": [
    "# Q3."
   ]
  },
  {
   "cell_type": "code",
   "execution_count": 13,
   "metadata": {},
   "outputs": [],
   "source": [
    "pyDatalog.create_terms('mark')\n",
    "\n",
    "mark['ram']=90\n",
    "mark['raju']=45\n",
    "mark['priya']=85\n",
    "mark['carol']=70\n",
    "mark['shyam']=80\n"
   ]
  },
  {
   "cell_type": "markdown",
   "metadata": {},
   "source": [
    "## a."
   ]
  },
  {
   "cell_type": "code",
   "execution_count": 14,
   "metadata": {},
   "outputs": [
    {
     "name": "stdout",
     "output_type": "stream",
     "text": [
      "X     | Y \n",
      "------|---\n",
      "carol | 70\n",
      "ram   | 90\n",
      "priya | 85\n",
      "shyam | 80\n",
      "raju  | 45\n"
     ]
    }
   ],
   "source": [
    "print(mark[X]==Y)"
   ]
  },
  {
   "cell_type": "markdown",
   "metadata": {},
   "source": [
    "## b."
   ]
  },
  {
   "cell_type": "code",
   "execution_count": 15,
   "metadata": {},
   "outputs": [
    {
     "name": "stdout",
     "output_type": "stream",
     "text": [
      "X    \n",
      "-----\n",
      "shyam\n"
     ]
    }
   ],
   "source": [
    "print(mark[X]==80)"
   ]
  },
  {
   "cell_type": "markdown",
   "metadata": {},
   "source": [
    "## c."
   ]
  },
  {
   "cell_type": "code",
   "execution_count": 47,
   "metadata": {},
   "outputs": [
    {
     "name": "stdout",
     "output_type": "stream",
     "text": [
      "X \n",
      "--\n",
      "85\n"
     ]
    }
   ],
   "source": [
    "print(mark['priya']==X)"
   ]
  },
  {
   "cell_type": "markdown",
   "metadata": {},
   "source": [
    "## d."
   ]
  },
  {
   "cell_type": "code",
   "execution_count": 48,
   "metadata": {},
   "outputs": [
    {
     "data": {
      "text/plain": [
       "passm(X) <= >(X,'60')"
      ]
     },
     "execution_count": 48,
     "metadata": {},
     "output_type": "execute_result"
    }
   ],
   "source": [
    "pyDatalog.create_terms('passm,grade')\n",
    "passm(X)<= (X>60)"
   ]
  },
  {
   "cell_type": "code",
   "execution_count": 49,
   "metadata": {},
   "outputs": [
    {
     "name": "stdout",
     "output_type": "stream",
     "text": [
      "X     | Y \n",
      "------|---\n",
      "carol | 70\n",
      "priya | 85\n",
      "shyam | 80\n",
      "ram   | 90\n"
     ]
    }
   ],
   "source": [
    "print((mark[X]==Y) & (passm(Y)))"
   ]
  },
  {
   "cell_type": "markdown",
   "metadata": {},
   "source": [
    "## e."
   ]
  },
  {
   "cell_type": "code",
   "execution_count": 74,
   "metadata": {},
   "outputs": [
    {
     "data": {
      "text/plain": [
       "grade[1]==(*,X,'A') <= >=(X,'90')"
      ]
     },
     "execution_count": 74,
     "metadata": {},
     "output_type": "execute_result"
    }
   ],
   "source": [
    "(grade[X] == 'F') <= (0 <= X)\n",
    "(grade[X] == 'E') <= (50 <= X)\n",
    "(grade[X] == 'D') <= (60 <= X)\n",
    "(grade[X] == 'C') <= (70 <= X)\n",
    "(grade[X] == 'B') <= (80 <= X)\n",
    "(grade[X] == 'A') <= (90 <= X)"
   ]
  },
  {
   "cell_type": "code",
   "execution_count": 78,
   "metadata": {},
   "outputs": [
    {
     "name": "stdout",
     "output_type": "stream",
     "text": [
      "X\n",
      "-\n",
      "F\n"
     ]
    }
   ],
   "source": [
    "print(grade[40]==X)"
   ]
  },
  {
   "cell_type": "code",
   "execution_count": 79,
   "metadata": {},
   "outputs": [
    {
     "name": "stdout",
     "output_type": "stream",
     "text": [
      "X\n",
      "-\n",
      "C\n"
     ]
    }
   ],
   "source": [
    "print(grade[70]==X)"
   ]
  },
  {
   "cell_type": "markdown",
   "metadata": {},
   "source": [
    "# Q1."
   ]
  },
  {
   "cell_type": "code",
   "execution_count": 24,
   "metadata": {},
   "outputs": [
    {
     "name": "stdout",
     "output_type": "stream",
     "text": [
      "X | Y\n",
      "--|--\n",
      "c | b\n",
      "b | c\n",
      "e | d\n",
      "d | e\n",
      "X | Y\n",
      "--|--\n",
      "f | e\n",
      "f | d\n",
      "d | f\n",
      "e | f\n",
      "X | Y\n",
      "--|--\n",
      "f | a\n",
      "e | a\n",
      "d | a\n",
      "X | Y\n",
      "--|--\n",
      "d | b\n",
      "e | b\n",
      "f | c\n",
      "b | a\n",
      "c | a\n",
      "d | a\n",
      "e | a\n",
      "f | a\n"
     ]
    }
   ],
   "source": [
    "pyDatalog.create_terms(\"father,cousin,brother,Z,a,b,c,d,e,f,X,Y,W,grandson,descendent\")\n",
    "+ father ('b','d')\n",
    "+ father ('b','e')\n",
    "+ father ('c','f')\n",
    "+ father ('a','b')\n",
    "+ father ('a','c')\n",
    "brother(X, Y) <= father(Z, X) & father(Z, Y) & ~(X==Y)\n",
    "cousin(X, Y) <= father(Z, X) & father(W, Y) & brother(Z, W)\n",
    "grandson(X, Y) <= father(Z, X) & father(Y, Z)\n",
    "descendent(X, Y) <= father(Y, X)\n",
    "descendent(X, Y) <= father(Z, X) & descendent(Z, Y)\n",
    "print(brother(X,Y))\n",
    "print(cousin(X,Y))\n",
    "print(grandson(X,Y))\n",
    "print(descendent(X,Y))"
   ]
  },
  {
   "cell_type": "markdown",
   "metadata": {},
   "source": [
    "# Q4."
   ]
  },
  {
   "cell_type": "code",
   "execution_count": 20,
   "metadata": {},
   "outputs": [
    {
     "name": "stdout",
     "output_type": "stream",
     "text": [
      "Ram 90\n",
      "Raju 45\n",
      "Priya 85\n",
      "Carol 70\n",
      "Shyam 80\n"
     ]
    }
   ],
   "source": [
    "marks = {'Ram':90,'Raju':45,'Priya':85,'Carol':70,'Shyam':80}\n",
    "for i in marks:\n",
    "    print(i,marks.get(i))"
   ]
  },
  {
   "cell_type": "code",
   "execution_count": 11,
   "metadata": {},
   "outputs": [
    {
     "name": "stdout",
     "output_type": "stream",
     "text": [
      "Shyam\n"
     ]
    }
   ],
   "source": [
    "for i in marks:\n",
    "    if marks.get(i)==80:\n",
    "        print(i)"
   ]
  },
  {
   "cell_type": "code",
   "execution_count": 16,
   "metadata": {},
   "outputs": [
    {
     "name": "stdout",
     "output_type": "stream",
     "text": [
      "85\n"
     ]
    }
   ],
   "source": [
    "print(marks.get('Priya'))"
   ]
  },
  {
   "cell_type": "code",
   "execution_count": 21,
   "metadata": {},
   "outputs": [
    {
     "name": "stdout",
     "output_type": "stream",
     "text": [
      "Ram\n",
      "Priya\n",
      "Carol\n",
      "Shyam\n"
     ]
    }
   ],
   "source": [
    "def passm(mydict):\n",
    "     for i in mydict:\n",
    "        if mydict.get(i)>=50:\n",
    "             print(i)\n",
    "\n",
    "passm(marks)"
   ]
  },
  {
   "cell_type": "code",
   "execution_count": 23,
   "metadata": {},
   "outputs": [
    {
     "name": "stdout",
     "output_type": "stream",
     "text": [
      "B\n"
     ]
    }
   ],
   "source": [
    "def findgrade(marks):\n",
    "        if marks>90:\n",
    "             print ('A')\n",
    "        elif marks>=80 and marks<90:\n",
    "             print ('B')\n",
    "        elif marks>=70 and marks<80:\n",
    "             print ('C')\n",
    "        elif marks>=60 and marks<70:\n",
    "             print ('D')\n",
    "        elif marks >= 50 and marks <60:\n",
    "             print('D')\n",
    "        elif marks<50:\n",
    "             print ('F')\n",
    "\n",
    "findgrade(85)"
   ]
  },
  {
   "cell_type": "markdown",
   "metadata": {},
   "source": [
    "# Q5."
   ]
  },
  {
   "cell_type": "code",
   "execution_count": 25,
   "metadata": {},
   "outputs": [
    {
     "name": "stdout",
     "output_type": "stream",
     "text": [
      "N\n",
      "-\n",
      "6\n"
     ]
    }
   ],
   "source": [
    "pyDatalog.create_terms('factorial, N')\n",
    "\n",
    "factorial[N] = N*factorial[N-1]\n",
    "factorial[1] = 1\n",
    "\n",
    "print(factorial[3]==N)"
   ]
  },
  {
   "cell_type": "code",
   "execution_count": null,
   "metadata": {},
   "outputs": [],
   "source": []
  }
 ],
 "metadata": {
  "kernelspec": {
   "display_name": "Python 3",
   "language": "python",
   "name": "python3"
  },
  "language_info": {
   "codemirror_mode": {
    "name": "ipython",
    "version": 3
   },
   "file_extension": ".py",
   "mimetype": "text/x-python",
   "name": "python",
   "nbconvert_exporter": "python",
   "pygments_lexer": "ipython3",
   "version": "3.7.4"
  }
 },
 "nbformat": 4,
 "nbformat_minor": 2
}
